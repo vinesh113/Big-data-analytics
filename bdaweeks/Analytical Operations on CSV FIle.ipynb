{
 "cells": [
  {
   "cell_type": "markdown",
   "id": "792eab8e-60cf-42e7-8091-9139d3fdd8dd",
   "metadata": {},
   "source": [
    "Create a DataFrame in PySpark by loading data from a CSV file and perform basic analytical operations"
   ]
  },
  {
   "cell_type": "code",
   "execution_count": 1,
   "id": "a301465b-211e-4f5c-b077-fee33f63aafe",
   "metadata": {},
   "outputs": [],
   "source": [
    "import os\n",
    "import findspark\n",
    "\n",
    "# Point to Java & Spark\n",
    "os.environ[\"JAVA_HOME\"] = \"C:/Progra~1/Java/jdk1.8\"\n",
    "os.environ[\"SPARK_HOME\"] = \"C:/spark/spark-3.5.7-bin-hadoop3-scala2.13\"\n",
    "os.environ[\"HADOOP_HOME\"] = \"C:/hadoop\"   # if you installed winutils here\n",
    "os.environ[\"PATH\"] += \";C:/spark/spark-3.5.7-bin-hadoop3-scala2.13/bin;C:/hadoop/bin\"\n",
    "\n",
    "# Initialize findspark\n",
    "findspark.init(os.environ[\"SPARK_HOME\"])\n",
    "\n",
    "from pyspark.sql import SparkSession\n",
    "\n",
    "# Now build SparkSession\n",
    "spark = SparkSession.builder \\\n",
    "    .appName(\"CSV_RDD_Example\") \\\n",
    "    .master(\"local[*]\") \\\n",
    "    .getOrCreate()\n",
    "\n",
    "sc = spark.sparkContext"
   ]
  },
  {
   "cell_type": "code",
   "execution_count": 2,
   "id": "bd2db332-78d3-42bc-b4db-5b4cdc6cfaa6",
   "metadata": {},
   "outputs": [
    {
     "data": {
      "text/html": [
       "\n",
       "        <div>\n",
       "            <p><b>SparkContext</b></p>\n",
       "\n",
       "            <p><a href=\"http://checkhost.local:4044\">Spark UI</a></p>\n",
       "\n",
       "            <dl>\n",
       "              <dt>Version</dt>\n",
       "                <dd><code>v3.5.7</code></dd>\n",
       "              <dt>Master</dt>\n",
       "                <dd><code>local[*]</code></dd>\n",
       "              <dt>AppName</dt>\n",
       "                <dd><code>CSV_RDD_Example</code></dd>\n",
       "            </dl>\n",
       "        </div>\n",
       "        "
      ],
      "text/plain": [
       "<SparkContext master=local[*] appName=CSV_RDD_Example>"
      ]
     },
     "execution_count": 2,
     "metadata": {},
     "output_type": "execute_result"
    }
   ],
   "source": [
    "sc"
   ]
  },
  {
   "cell_type": "markdown",
   "id": "85036c5a-03b3-4ffc-92cf-bbd44ecf7388",
   "metadata": {},
   "source": [
    "📊 Dataset Overview\n",
    "\n",
    "    --Total Records: 50 students\n",
    "    \n",
    "    --Columns: 7 → id, name, age, gender, math, science, english\n",
    "    \n",
    "    --No missing values\n",
    "    \n",
    "👥 Demographics\n",
    "\n",
    "    --Age: 18 – 25 years (average ≈ 21.5)\n",
    "    \n",
    "    --Gender: 29 Female, 21 Male\n",
    "    \n",
    "📚 Academic Performance\n",
    "\n",
    "**Math:\n",
    "\n",
    "    --Range: 40 – 100\n",
    "    \n",
    "    --Mean: 68.9\n",
    "    \n",
    "    --Std. Dev.: 17.6 (high variation)\n",
    "    \n",
    "**Science:\n",
    "\n",
    "    --Range: 44 – 99\n",
    "    \n",
    "    --Mean: 70.2\n",
    "     \n",
    "    --Std. Dev.: 14.6 (moderate variation)\n",
    "    \n",
    "**English:\n",
    "\n",
    "    --Range: 42 – 100\n",
    "    \n",
    "    --Mean: 69.4\n",
    "    \n",
    "    --Std. Dev.: 18.7 (highest variation)\n",
    "    \n",
    "Key Insights\n",
    "\n",
    "    --Science is the strongest subject on average.\n",
    "    \n",
    "    --English has the most variation in performance.\n",
    "    \n",
    "    --Students perform differently across subjects (not uniform)."
   ]
  },
  {
   "cell_type": "code",
   "execution_count": 6,
   "id": "6d093a93-e087-46ba-af4d-ed74194748aa",
   "metadata": {},
   "outputs": [],
   "source": [
    "from pyspark.sql import SparkSession\n",
    "from pyspark.sql.functions import col, avg, max, min, round, count\n",
    "# Step 1: Initialize Spark Session\n",
    "spark = SparkSession.builder.appName(\"StudentsAnalytics\").getOrCreate()"
   ]
  },
  {
   "cell_type": "code",
   "execution_count": 7,
   "id": "a375cdaf-b3a8-4cdc-8fbf-f1fb60187aa8",
   "metadata": {},
   "outputs": [],
   "source": [
    " # Step 2: Read CSV file into DataFrame\n",
    " df = spark.read.csv(\"students.csv\", header=True, inferSchema=True)"
   ]
  },
  {
   "cell_type": "code",
   "execution_count": 8,
   "id": "13f50df7-ef5d-4b5a-ae7c-70a11554a2e8",
   "metadata": {},
   "outputs": [
    {
     "name": "stdout",
     "output_type": "stream",
     "text": [
      "=== First 5 rows ===\n",
      "+---+-------+---+------+----+-------+-------+\n",
      "| id|   name|age|gender|math|science|english|\n",
      "+---+-------+---+------+----+-------+-------+\n",
      "|  1|  Alice| 20|     F|  66|     92|     44|\n",
      "|  2|    Bob| 20|     M|  82|     52|     77|\n",
      "|  3|Charlie| 22|     F|  43|     57|     76|\n",
      "|  4|  David| 19|     M|  95|     69|     46|\n",
      "|  5|    Eva| 19|     F|  62|     44|     96|\n",
      "+---+-------+---+------+----+-------+-------+\n",
      "only showing top 5 rows\n",
      "\n"
     ]
    }
   ],
   "source": [
    " # === Analytical Operations (10 max) ===\n",
    " # 1. View first 5 rows\n",
    " print(\"=== First 5 rows ===\")\n",
    " df.show(5)\n"
   ]
  },
  {
   "cell_type": "code",
   "execution_count": 9,
   "id": "31c83bd4-7028-456b-8888-2ca3d0264ffe",
   "metadata": {},
   "outputs": [
    {
     "name": "stdout",
     "output_type": "stream",
     "text": [
      "=== Schema ===\n",
      "root\n",
      " |-- id: integer (nullable = true)\n",
      " |-- name: string (nullable = true)\n",
      " |-- age: integer (nullable = true)\n",
      " |-- gender: string (nullable = true)\n",
      " |-- math: integer (nullable = true)\n",
      " |-- science: integer (nullable = true)\n",
      " |-- english: integer (nullable = true)\n",
      "\n"
     ]
    }
   ],
   "source": [
    " # 2. Print schema\n",
    " print(\"=== Schema ===\")\n",
    " df.printSchema()"
   ]
  },
  {
   "cell_type": "code",
   "execution_count": 10,
   "id": "1709314e-c49d-4265-a0a2-bca3d200c969",
   "metadata": {},
   "outputs": [
    {
     "name": "stdout",
     "output_type": "stream",
     "text": [
      "Total rows: 50\n"
     ]
    }
   ],
   "source": [
    " # 3. Count total rows\n",
    " print(\"Total rows:\", df.count())"
   ]
  },
  {
   "cell_type": "code",
   "execution_count": 11,
   "id": "f2935636-9ebe-4e50-8430-78f481376e95",
   "metadata": {},
   "outputs": [
    {
     "name": "stdout",
     "output_type": "stream",
     "text": [
      "=== Summary Statistics ===\n",
      "+-------+------------------+-----+------------------+------+------------------+------------------+-----------------+\n",
      "|summary|                id| name|               age|gender|              math|           science|          english|\n",
      "+-------+------------------+-----+------------------+------+------------------+------------------+-----------------+\n",
      "|  count|                50|   50|                50|    50|                50|                50|               50|\n",
      "|   mean|              25.5| NULL|              21.5|  NULL|             68.94|             70.16|            69.36|\n",
      "| stddev|14.577379737113251| NULL|2.2337851101588404|  NULL|17.609610085034216|14.636214521186957|18.74507826560544|\n",
      "|    min|                 1|Aaron|                18|     F|                40|                44|               42|\n",
      "|    max|                50| Zoey|                25|     M|               100|                99|              100|\n",
      "+-------+------------------+-----+------------------+------+------------------+------------------+-----------------+\n",
      "\n"
     ]
    }
   ],
   "source": [
    " # 4. Show summary statistics (numeric columns)\n",
    " print(\"=== Summary Statistics ===\")\n",
    " df.describe().show()\n"
   ]
  },
  {
   "cell_type": "code",
   "execution_count": 12,
   "id": "d5f13359-8f94-4555-b587-3d5242ae388b",
   "metadata": {},
   "outputs": [
    {
     "name": "stdout",
     "output_type": "stream",
     "text": [
      "=== Students with math >= 80 ===\n",
      "+---+------+----+\n",
      "| id|  name|math|\n",
      "+---+------+----+\n",
      "|  2|   Bob|  82|\n",
      "|  4| David|  95|\n",
      "| 11| Kathy|  85|\n",
      "| 12|   Leo|  97|\n",
      "| 15|Olivia|  87|\n",
      "| 20|  Tina| 100|\n",
      "| 21|   Uma|  89|\n",
      "| 22|Victor|  96|\n",
      "| 25|  Yara| 100|\n",
      "| 27| Aaron|  81|\n",
      "+---+------+----+\n",
      "only showing top 10 rows\n",
      "\n"
     ]
    }
   ],
   "source": [
    " # 5. Select students with math >= 80\n",
    " print(\"=== Students with math >= 80 ===\")\n",
    " df.filter(col(\"math\") >= 80).select(\"id\", \"name\", \"math\").show(10)"
   ]
  },
  {
   "cell_type": "code",
   "execution_count": 14,
   "id": "492abb91-390b-4e66-8347-942ed68736ea",
   "metadata": {},
   "outputs": [
    {
     "name": "stdout",
     "output_type": "stream",
     "text": [
      "=== Average marks per subject ===\n",
      "+--------+-----------+-----------+\n",
      "|avg_math|avg_science|avg_english|\n",
      "+--------+-----------+-----------+\n",
      "|   68.94|      70.16|      69.36|\n",
      "+--------+-----------+-----------+\n",
      "\n"
     ]
    }
   ],
   "source": [
    "# 6. Calculate average marks per subject\n",
    "print(\"=== Average marks per subject ===\")\n",
    "df.select(\n",
    " round(avg(\"math\"),2).alias(\"avg_math\"),\n",
    " round(avg(\"science\"),2).alias(\"avg_science\"),\n",
    " round(avg(\"english\"),2).alias(\"avg_english\")\n",
    " ).show()"
   ]
  },
  {
   "cell_type": "code",
   "execution_count": 15,
   "id": "f152f517-1d93-426c-a79d-58cbe9f198d1",
   "metadata": {},
   "outputs": [
    {
     "name": "stdout",
     "output_type": "stream",
     "text": [
      "=== Dataset with 'average' column ===\n",
      "+---+-------+---+------+----+-------+-------+-------+\n",
      "| id|   name|age|gender|math|science|english|average|\n",
      "+---+-------+---+------+----+-------+-------+-------+\n",
      "|  1|  Alice| 20|     F|  66|     92|     44|  67.33|\n",
      "|  2|    Bob| 20|     M|  82|     52|     77|  70.33|\n",
      "|  3|Charlie| 22|     F|  43|     57|     76|  58.67|\n",
      "|  4|  David| 19|     M|  95|     69|     46|   70.0|\n",
      "|  5|    Eva| 19|     F|  62|     44|     96|  67.33|\n",
      "+---+-------+---+------+----+-------+-------+-------+\n",
      "only showing top 5 rows\n",
      "\n"
     ]
    }
   ],
   "source": [
    "# 7. Add new column: average marks\n",
    "df_with_avg = df.withColumn(\"average\", round((col(\"math\")+col(\"science\")+col(\"english\"))/3,2))\n",
    "print(\"=== Dataset with 'average' column ===\")\n",
    "df_with_avg.show(5)"
   ]
  },
  {
   "cell_type": "code",
   "execution_count": 16,
   "id": "473fb4f0-e7c9-40b8-ac07-9d0bbdc99090",
   "metadata": {},
   "outputs": [
    {
     "name": "stdout",
     "output_type": "stream",
     "text": [
      "=== Topper ===\n",
      "+---+----+---+------+----+-------+-------+-------+\n",
      "| id|name|age|gender|math|science|english|average|\n",
      "+---+----+---+------+----+-------+-------+-------+\n",
      "| 12| Leo| 24|     M|  97|     84|     83|   88.0|\n",
      "+---+----+---+------+----+-------+-------+-------+\n",
      "\n"
     ]
    }
   ],
   "source": [
    " # 8. Find topper (student with max average)\n",
    " print(\"=== Topper ===\")\n",
    " df_with_avg.orderBy(col(\"average\").desc()).limit(1).show()"
   ]
  },
  {
   "cell_type": "code",
   "execution_count": 17,
   "id": "787a7f3b-1c9e-4f8e-840e-44660fc07e34",
   "metadata": {},
   "outputs": [
    {
     "name": "stdout",
     "output_type": "stream",
     "text": [
      "=== Average marks by gender ===\n",
      "+------+--------+-----------+-----------+-----------+\n",
      "|gender|avg_math|avg_science|avg_english|overall_avg|\n",
      "+------+--------+-----------+-----------+-----------+\n",
      "|     F|   63.86|      68.55|      70.55|      67.66|\n",
      "|     M|   75.95|      72.38|      67.71|      72.02|\n",
      "+------+--------+-----------+-----------+-----------+\n",
      "\n"
     ]
    }
   ],
   "source": [
    "# 9. Group by gender → average marks\n",
    "print(\"=== Average marks by gender ===\")\n",
    "df_with_avg.groupBy(\"gender\").agg(\n",
    " round(avg(\"math\"),2).alias(\"avg_math\"),\n",
    " round(avg(\"science\"),2).alias(\"avg_science\"),\n",
    " round(avg(\"english\"),2).alias(\"avg_english\"),\n",
    " round(avg(\"average\"),2).alias(\"overall_avg\")\n",
    ").show()"
   ]
  },
  {
   "cell_type": "code",
   "execution_count": 18,
   "id": "4d5ff203-b193-4109-851b-23b946c3b8d2",
   "metadata": {},
   "outputs": [
    {
     "name": "stdout",
     "output_type": "stream",
     "text": [
      "=== Min & Max of each subject ===\n",
      "+--------+--------+-----------+-----------+-----------+-----------+\n",
      "|min_math|max_math|min_science|max_science|min_english|max_english|\n",
      "+--------+--------+-----------+-----------+-----------+-----------+\n",
      "|      40|     100|         44|         99|         42|        100|\n",
      "+--------+--------+-----------+-----------+-----------+-----------+\n",
      "\n"
     ]
    }
   ],
   "source": [
    "# 10. Find min and max of each subject\n",
    "print(\"=== Min & Max of each subject ===\")\n",
    "df.select(\n",
    " min(\"math\").alias(\"min_math\"), max(\"math\").alias(\"max_math\"),\n",
    " min(\"science\").alias(\"min_science\"), max(\"science\").alias(\"max_science\"),\n",
    " min(\"english\").alias(\"min_english\"), max(\"english\").alias(\"max_english\")\n",
    " ).show()"
   ]
  },
  {
   "cell_type": "code",
   "execution_count": null,
   "id": "e599a04f-8349-4396-b2f9-359efba4fa6e",
   "metadata": {},
   "outputs": [],
   "source": []
  },
  {
   "cell_type": "markdown",
   "id": "e92e48c9-87b6-4b96-9663-dd783a5a5758",
   "metadata": {},
   "source": [
    "Summary\n",
    "\n",
    "    --Aggregation: The notebook demonstrates how to calculate the total number of students and the total marks for each subject (math, science, and english).\n",
    "\n",
    "    --Averages: It calculates the average age of the students as well as the average marks for each subject.\n",
    "\n",
    "    --Grouping: The code groups the students by gender to calculate the average age and average marks for each subject within those groups.\n",
    "\n",
    "    --Min and Max Values: It finds the minimum and maximum marks for each of the three subjects."
   ]
  },
  {
   "cell_type": "code",
   "execution_count": 19,
   "id": "af3d12b4-f06c-4551-924d-d7da8664702b",
   "metadata": {},
   "outputs": [],
   "source": [
    "# Stop Spark session\n",
    "# spark.stop()"
   ]
  },
  {
   "cell_type": "code",
   "execution_count": null,
   "id": "db428944-0b54-4c52-867c-3d3cd31de7b0",
   "metadata": {},
   "outputs": [],
   "source": []
  },
  {
   "cell_type": "code",
   "execution_count": null,
   "id": "afb1156b-3296-4823-85c5-675866c537ac",
   "metadata": {},
   "outputs": [],
   "source": []
  }
 ],
 "metadata": {
  "kernelspec": {
   "display_name": "PySpark (py310)",
   "language": "python",
   "name": "pyspark310"
  },
  "language_info": {
   "codemirror_mode": {
    "name": "ipython",
    "version": 3
   },
   "file_extension": ".py",
   "mimetype": "text/x-python",
   "name": "python",
   "nbconvert_exporter": "python",
   "pygments_lexer": "ipython3",
   "version": "3.10.18"
  }
 },
 "nbformat": 4,
 "nbformat_minor": 5
}
